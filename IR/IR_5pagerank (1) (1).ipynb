{
 "cells": [
  {
   "cell_type": "code",
   "execution_count": 1,
   "id": "93d69da2-cca8-407c-ad19-259e0afe06d2",
   "metadata": {
    "tags": []
   },
   "outputs": [],
   "source": [
    "import numpy as np\n",
    "from fractions import Fraction\n",
    "\n",
    "#https://thinkinfi.com/page-rank-algorithm-and-implementation-in-python/"
   ]
  },
  {
   "cell_type": "code",
   "execution_count": 2,
   "id": "6636761c-70ed-41bf-afa4-f374c63842bc",
   "metadata": {
    "tags": []
   },
   "outputs": [],
   "source": [
    "n = 4"
   ]
  },
  {
   "cell_type": "code",
   "execution_count": 3,
   "id": "e387419c-d037-431f-aac2-7e363ca8df55",
   "metadata": {
    "tags": []
   },
   "outputs": [
    {
     "name": "stdout",
     "output_type": "stream",
     "text": [
      "[[0 Fraction(1, 2) 0 0]\n",
      " [Fraction(1, 3) 0 0 Fraction(1, 2)]\n",
      " [Fraction(1, 3) 0 0 Fraction(1, 2)]\n",
      " [Fraction(1, 3) Fraction(1, 2) 1 0]]\n"
     ]
    }
   ],
   "source": [
    "transferMatrix = np.matrix([[0,Fraction(1,2),0,0],[Fraction(1,3),0,0,Fraction(1,2)],[Fraction(1,3),0,0,Fraction(1,2)],[Fraction(1,3),Fraction(1,2),1,0]])\n",
    "print(transferMatrix)"
   ]
  },
  {
   "cell_type": "code",
   "execution_count": 4,
   "id": "15097194-f979-4834-b32a-f96ec6f0e88e",
   "metadata": {
    "tags": []
   },
   "outputs": [
    {
     "name": "stdout",
     "output_type": "stream",
     "text": [
      "[[0.25 0.25 0.25 0.25]\n",
      " [0.25 0.25 0.25 0.25]\n",
      " [0.25 0.25 0.25 0.25]\n",
      " [0.25 0.25 0.25 0.25]]\n"
     ]
    }
   ],
   "source": [
    "constantMatrix= np.zeros((n,n))\n",
    "constantMatrix[:] = Fraction(1,n)\n",
    "print(constantMatrix)"
   ]
  },
  {
   "cell_type": "code",
   "execution_count": 5,
   "id": "48f6b04d-40a5-419b-a44d-6e70555d3c39",
   "metadata": {
    "tags": []
   },
   "outputs": [],
   "source": [
    "dampingFactor = 0.85"
   ]
  },
  {
   "cell_type": "code",
   "execution_count": 6,
   "id": "d350d257-1a23-4920-a8de-a4d59ddb188f",
   "metadata": {
    "tags": []
   },
   "outputs": [
    {
     "name": "stdout",
     "output_type": "stream",
     "text": [
      "[[0.037500000000000006 0.4625 0.037500000000000006 0.037500000000000006]\n",
      " [0.3208333333333333 0.037500000000000006 0.037500000000000006 0.4625]\n",
      " [0.3208333333333333 0.037500000000000006 0.037500000000000006 0.4625]\n",
      " [0.3208333333333333 0.4625 0.8875 0.037500000000000006]]\n"
     ]
    }
   ],
   "source": [
    "pageRankMatrix = dampingFactor * transferMatrix + ((1-dampingFactor) * constantMatrix)\n",
    "print(pageRankMatrix)"
   ]
  },
  {
   "cell_type": "code",
   "execution_count": 7,
   "id": "8f066dc9-efd3-4c73-849a-277f5e10d075",
   "metadata": {
    "tags": []
   },
   "outputs": [
    {
     "name": "stdout",
     "output_type": "stream",
     "text": [
      "[[0.25]\n",
      " [0.25]\n",
      " [0.25]\n",
      " [0.25]]\n"
     ]
    }
   ],
   "source": [
    "probability= np.zeros((n,1))\n",
    "probability[:] = Fraction(1,n)\n",
    "print(probability)"
   ]
  },
  {
   "cell_type": "code",
   "execution_count": 8,
   "id": "1c233faa-2e21-4ce0-be11-7473636a2f0c",
   "metadata": {
    "tags": []
   },
   "outputs": [],
   "source": [
    "probabilityOld = probability"
   ]
  },
  {
   "cell_type": "code",
   "execution_count": 9,
   "id": "d53cf02b-b3b8-4552-ad20-6893270f2f36",
   "metadata": {
    "tags": []
   },
   "outputs": [
    {
     "name": "stdout",
     "output_type": "stream",
     "text": [
      "[[0.1392191078634532]\n",
      " [0.23933907732577211]\n",
      " [0.23933907732577211]\n",
      " [0.3821027374850045]]\n"
     ]
    }
   ],
   "source": [
    "for i in range(100000):\n",
    "    probability = pageRankMatrix * probability\n",
    "    if (probabilityOld == probability).all():\n",
    "        break\n",
    "    probabilityOld = probability\n",
    "print (probability)"
   ]
  },
  {
   "cell_type": "code",
   "execution_count": 10,
   "id": "04fb72e1-2b33-4cb4-a813-a1f873756ef8",
   "metadata": {
    "tags": []
   },
   "outputs": [
    {
     "name": "stdout",
     "output_type": "stream",
     "text": [
      "[ 1.00000000e+00 -7.72011047e-01 -7.79889531e-02  4.93622079e-16]\n",
      "[[ 2.63122478e-01  2.62323812e-01 -8.25340062e-01 -8.01783726e-01]\n",
      " [ 4.52348045e-01 -4.76510307e-01  1.51452723e-01 -9.77594792e-16]\n",
      " [ 4.52348045e-01 -4.76510307e-01  1.51452723e-01  2.67261242e-01]\n",
      " [ 7.22169685e-01  6.90696802e-01  5.22434615e-01  5.34522484e-01]]\n"
     ]
    }
   ],
   "source": [
    "eigenvalue, eigenvector = np.linalg.eig(np.array(pageRankMatrix, dtype=float))\n",
    "print(eigenvalue)\n",
    "print(eigenvector)"
   ]
  },
  {
   "cell_type": "code",
   "execution_count": 11,
   "id": "c8813d80-bf61-45dd-b08d-2cce51466df9",
   "metadata": {
    "tags": []
   },
   "outputs": [
    {
     "name": "stdout",
     "output_type": "stream",
     "text": [
      "[[0.13921911]\n",
      " [0.23933908]\n",
      " [0.23933908]\n",
      " [0.38210274]]\n"
     ]
    }
   ],
   "source": [
    "requiredEigenvector = eigenvector[:,0].reshape(n,1)  # Eigenvalue = 1 for first column\n",
    "requiredEigenvector = requiredEigenvector/np.sum(requiredEigenvector, axis = 0) # Convert to Probabilities\n",
    "print(requiredEigenvector) # Probabilities of webpages"
   ]
  },
  {
   "cell_type": "code",
   "execution_count": null,
   "id": "5f294603-aa40-45fc-9ad9-904454c70d67",
   "metadata": {},
   "outputs": [],
   "source": []
  }
 ],
 "metadata": {
  "kernelspec": {
   "display_name": "Python 3 (ipykernel)",
   "language": "python",
   "name": "python3"
  },
  "language_info": {
   "codemirror_mode": {
    "name": "ipython",
    "version": 3
   },
   "file_extension": ".py",
   "mimetype": "text/x-python",
   "name": "python",
   "nbconvert_exporter": "python",
   "pygments_lexer": "ipython3",
   "version": "3.10.9"
  }
 },
 "nbformat": 4,
 "nbformat_minor": 5
}
