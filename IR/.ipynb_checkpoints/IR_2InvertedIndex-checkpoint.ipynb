{
 "cells": [
  {
   "cell_type": "code",
   "execution_count": 1,
   "id": "63308f50",
   "metadata": {},
   "outputs": [
    {
     "name": "stdout",
     "output_type": "stream",
     "text": [
      "Documents containing 'apple mango': {3}\n"
     ]
    }
   ],
   "source": [
    "class InvertedIndex:\n",
    "    def __init__(self):\n",
    "        self.index = {}\n",
    "\n",
    "    def add_document(self, doc_id, content):\n",
    "        words = content.split()\n",
    "        for word in set(words):\n",
    "            if word not in self.index:\n",
    "                self.index[word] = set()\n",
    "            self.index[word].add(doc_id)\n",
    "\n",
    "    def search(self, query):\n",
    "        query_words = query.split()\n",
    "        result = None\n",
    "        for word in query_words:\n",
    "            if word in self.index:\n",
    "                if result is None:\n",
    "                    result = self.index[word]\n",
    "                else:\n",
    "                    result = result.intersection(self.index[word])\n",
    "        return result if result is not None else set()\n",
    "if __name__ == \"__main__\":\n",
    "    index = InvertedIndex()\n",
    "\n",
    "    # Add documents to the index\n",
    "    index.add_document(1, \"apple banana orange\")\n",
    "    index.add_document(2, \"banana orange mango\")\n",
    "    index.add_document(3, \"apple mango grape\")\n",
    "\n",
    "    # Search for documents\n",
    "    query = \"apple mango\"\n",
    "    result = index.search(query)\n",
    "\n",
    "    if result:\n",
    "        print(f\"Documents containing '{query}': {result}\")\n",
    "    else:\n",
    "        print(\"No documents found for the query.\")\n",
    "\n",
    "\n"
   ]
  },
  {
   "cell_type": "code",
   "execution_count": 3,
   "id": "f288fb32",
   "metadata": {},
   "outputs": [
    {
     "name": "stdout",
     "output_type": "stream",
     "text": [
      "quick -> Document 1\n",
      "fox -> Document 1\n",
      "slept -> Document 2\n",
      "lazy -> Document 1, Document 2\n",
      "brown -> Document 1\n",
      "sun. -> Document 2\n",
      "dog -> Document 2\n",
      "in -> Document 2\n",
      "jumped -> Document 1\n",
      "dog. -> Document 1\n",
      "over -> Document 1\n",
      "the -> Document 1, Document 2\n"
     ]
    }
   ],
   "source": [
    "# Define the documents\n",
    "document1 = \"The quick brown fox jumped over the lazy dog.\"\n",
    "document2 = \"The lazy dog slept in the sun.\"\n",
    "\n",
    "# Step 1: Tokenize the documents\n",
    "# Convert each document to lowercase and split it into words\n",
    "tokens1 = document1.lower().split()\n",
    "tokens2 = document2.lower().split()\n",
    "\n",
    "# Combine the tokens into a list of unique terms\n",
    "terms = list(set(tokens1 + tokens2))\n",
    "\n",
    "# Step 2: Build the inverted index\n",
    "# Create an empty dictionary to store the inverted index\n",
    "inverted_index = {}\n",
    "\n",
    "# For each term, find the documents that contain it\n",
    "for term in terms:\n",
    "    documents = []\n",
    "    if term in tokens1:\n",
    "        documents.append(\"Document 1\")\n",
    "    if term in tokens2:\n",
    "        documents.append(\"Document 2\")\n",
    "    inverted_index[term] = documents\n",
    "\n",
    "# Step 3: Print the inverted index\n",
    "for term, documents in inverted_index.items():\n",
    "    print(term, \"->\", \", \".join(documents))\n"
   ]
  },
  {
   "cell_type": "code",
   "execution_count": null,
   "id": "84350e1f",
   "metadata": {},
   "outputs": [],
   "source": []
  }
 ],
 "metadata": {
  "kernelspec": {
   "display_name": "Python 3 (ipykernel)",
   "language": "python",
   "name": "python3"
  },
  "language_info": {
   "codemirror_mode": {
    "name": "ipython",
    "version": 3
   },
   "file_extension": ".py",
   "mimetype": "text/x-python",
   "name": "python",
   "nbconvert_exporter": "python",
   "pygments_lexer": "ipython3",
   "version": "3.10.9"
  }
 },
 "nbformat": 4,
 "nbformat_minor": 5
}
